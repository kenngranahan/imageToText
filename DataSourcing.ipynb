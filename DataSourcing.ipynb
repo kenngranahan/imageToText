{
 "cells": [
  {
   "cell_type": "code",
   "execution_count": 216,
   "id": "e56aa739",
   "metadata": {},
   "outputs": [],
   "source": [
    "# Data Sources:\n",
    "# Wikipedia\n",
    "# arxiv.org"
   ]
  },
  {
   "cell_type": "code",
   "execution_count": 220,
   "id": "8ba237b8",
   "metadata": {},
   "outputs": [],
   "source": [
    "from pathlib import Path\n",
    "\n",
    "from selenium import webdriver\n",
    "from selenium.webdriver.firefox.options import Options\n",
    "\n",
    "from bs4 import BeautifulSoup\n",
    "import requests\n",
    "from random_word import RandomWords"
   ]
  },
  {
   "cell_type": "code",
   "execution_count": 270,
   "id": "f1345e3d",
   "metadata": {},
   "outputs": [],
   "source": [
    "def getWikiText(soupObject): \n",
    "    text = ''\n",
    "    \n",
    "    for table in soup.find_all('table'):\n",
    "        table.extract()\n",
    "    for image in soup.find_all('img'):\n",
    "        image.extract()\n",
    "    for list_ in soup.find_all('ul'):\n",
    "        list_.extract()\n",
    "    \n",
    "    for elem in soup.find_all(['p', 'h1', 'h2', 'h3']):\n",
    "        if elem.has_attr('id'):\n",
    "            if elem['id'] == 'firstHeading':\n",
    "                text = text + elem.get_text() + '\\n'\n",
    "\n",
    "        if elem.name == 'h2' or elem.name == 'h3':\n",
    "            header = elem.find(class_='mw-headline')\n",
    "            if header is not None:\n",
    "                headerText = header.get_text()\n",
    "                if headerText not in ['See also','References','Further reading', 'External links']:\n",
    "                    text = text + '\\n' + header.get_text() + '\\n'\n",
    "                    \n",
    "        if elem.name == 'p':\n",
    "            text = text + elem.get_text()\n",
    "    return text"
   ]
  },
  {
   "cell_type": "code",
   "execution_count": 272,
   "id": "b0e157bc",
   "metadata": {},
   "outputs": [],
   "source": [
    "baseUrl = 'https://en.wikipedia.org/wiki/'\n",
    "numberOfUrlsToTry = 10\n",
    "numerofUrlsToDownload = 100\n",
    "numberOfSuccessfulDownloads = 0\n",
    "numberOfAttemptDownloads = 0\n",
    "maxAttemptsAllowed = 2*numerofUrlsToDownload\n",
    "\n",
    "cwd = Path().cwd()\n",
    "randomWordGenerator = RandomWords()\n",
    "options = Options()\n",
    "options.binary_location = r'C:\\Program Files\\Mozilla Firefox\\firefox.exe'\n",
    "driver = webdriver.Firefox(options=options)\n",
    "\n",
    "\n",
    "\n",
    "while numberOfSuccessfulDownloads < numerofUrlsToDownload:\n",
    "    \n",
    "    if numberOfAttemptDownloads>=maxAttemptsAllowed:\n",
    "        break\n",
    "    \n",
    "    urls = []\n",
    "    for idx in range(numberOfUrlsToTry):\n",
    "        randomWord = randomWordGenerator.get_random_word()\n",
    "        url = baseUrl + randomWord\n",
    "        urls.append(url)\n",
    "\n",
    "    for url in urls:\n",
    "        response = requests.get(url)\n",
    "        html_doc = response.text\n",
    "        encoding = response.encoding\n",
    "        numberOfAttemptDownloads +=1\n",
    "        \n",
    "        if 'Wikipedia does not have an article with this exact name.' not in html_doc:\n",
    "            folderName = url.split('/')[-1]\n",
    "            folderPath = cwd.joinpath('inputData')\n",
    "            folderPath = folderPath.joinpath(folderName)\n",
    "\n",
    "            if not folderPath.exists():\n",
    "                folderPath.mkdir()\n",
    "\n",
    "            screenshotPath = folderPath.joinpath('screenshot.png')\n",
    "            textPath = folderPath.joinpath('text.txt')\n",
    "\n",
    "            soup = BeautifulSoup(html_doc, 'html.parser')\n",
    "            text = getWikiText(soup)\n",
    "            with textPath.open('w', encoding=encoding) as f:\n",
    "                f.write(text)\n",
    "\n",
    "            driver.get(url)\n",
    "            driver.save_full_page_screenshot(str(screenshotPath))\n",
    "\n",
    "            numberOfSuccessfulDownloads+=1\n",
    "            \n",
    "driver.quit()"
   ]
  },
  {
   "cell_type": "code",
   "execution_count": null,
   "id": "54997523",
   "metadata": {},
   "outputs": [],
   "source": []
  }
 ],
 "metadata": {
  "kernelspec": {
   "display_name": "Python 3 (ipykernel)",
   "language": "python",
   "name": "python3"
  },
  "language_info": {
   "codemirror_mode": {
    "name": "ipython",
    "version": 3
   },
   "file_extension": ".py",
   "mimetype": "text/x-python",
   "name": "python",
   "nbconvert_exporter": "python",
   "pygments_lexer": "ipython3",
   "version": "3.9.12"
  }
 },
 "nbformat": 4,
 "nbformat_minor": 5
}
