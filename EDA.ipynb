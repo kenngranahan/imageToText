{
 "cells": [
  {
   "cell_type": "code",
   "execution_count": 1,
   "id": "fba38b32",
   "metadata": {},
   "outputs": [],
   "source": [
    "import cv2\n",
    "import numpy as np\n",
    "from pathlib import Path\n",
    "from matplotlib import pyplot as plt\n",
    "\n",
    "import pytesseract\n",
    "pytesseract.pytesseract.tesseract_cmd = r'C:\\Program Files\\Tesseract-OCR\\tesseract.exe'"
   ]
  },
  {
   "cell_type": "code",
   "execution_count": 3,
   "id": "0c03ba37",
   "metadata": {},
   "outputs": [],
   "source": [
    "def getLineCount(image):\n",
    "    image = cv2.cvtColor(image, cv2.COLOR_RGB2GRAY)\n",
    "    image = cv2.GaussianBlur(image, (5, 5), 0)\n",
    "    image = cv2.threshold(image, 0, 255, cv2.THRESH_BINARY_INV + cv2.THRESH_OTSU)[1]\n",
    "\n",
    "    kernel = cv2.getStructuringElement(cv2.MORPH_RECT, (20, 5))\n",
    "    image = cv2.dilate(image, kernel, iterations=1)\n",
    "\n",
    "\n",
    "    contours = cv2.findContours(image, cv2.RETR_EXTERNAL, cv2.CHAIN_APPROX_SIMPLE)\n",
    "    contours = contours[0] if len(contours) == 2 else contours[1]\n",
    "    \n",
    "    return len(contours)\n",
    "\n",
    "def getWordCount(image):\n",
    "    image = cv2.cvtColor(image, cv2.COLOR_RGB2GRAY)\n",
    "    image = cv2.GaussianBlur(image, (5, 5), 0)\n",
    "    image = cv2.threshold(image, 0, 255, cv2.THRESH_BINARY_INV + cv2.THRESH_OTSU)[1]\n",
    "\n",
    "    kernel = cv2.getStructuringElement(cv2.MORPH_RECT, (3, 3))\n",
    "    image = cv2.dilate(image, kernel, iterations=1)\n",
    "\n",
    "\n",
    "    contours = cv2.findContours(image, cv2.RETR_EXTERNAL, cv2.CHAIN_APPROX_SIMPLE)\n",
    "    contours = contours[0] if len(contours) == 2 else contours[1]\n",
    "    \n",
    "    return len(contours)\n",
    "\n",
    "\n",
    "def getParagraphCount(image):\n",
    "    image = cv2.cvtColor(image, cv2.COLOR_RGB2GRAY)\n",
    "    image = cv2.GaussianBlur(image, (5, 5), 0)\n",
    "    image = cv2.threshold(image, 0, 255, cv2.THRESH_BINARY_INV + cv2.THRESH_OTSU)[1]\n",
    "\n",
    "    kernel = cv2.getStructuringElement(cv2.MORPH_RECT, (5, 5))\n",
    "    image = cv2.dilate(image, kernel, iterations=3)\n",
    "\n",
    "\n",
    "    contours = cv2.findContours(image, cv2.RETR_EXTERNAL, cv2.CHAIN_APPROX_SIMPLE)\n",
    "    contours = contours[0] if len(contours) == 2 else contours[1]\n",
    "    \n",
    "    return len(contours)\n",
    "\n",
    "\n",
    "def getBackgroundColor(image):\n",
    "    colorFreq = {}\n",
    "    width, length, _ = image.shape\n",
    "    \n",
    "    for row in range(width):\n",
    "        for column in range(length):\n",
    "            pw = tuple(image[row, column])\n",
    "            if pw not in colorFreq:\n",
    "                colorFreq[pw] = 0\n",
    "            colorFreq[pw]= colorFreq[pw] + 1\n",
    "    backgroundColor = max(colorFreq, key=colorFreq.get)\n",
    "    return backgroundColor\n",
    "\n",
    "def contourWikipage(image):\n",
    "    \n",
    "    image = cv2.cvtColor(image, cv2.COLOR_RGB2GRAY)\n",
    "\n",
    "    image = cv2.GaussianBlur(image, (5, 5), 0)\n",
    "    image = cv2.threshold(image, 0, 255, cv2.THRESH_BINARY_INV + cv2.THRESH_OTSU)[1]\n",
    "\n",
    "    kernel = cv2.getStructuringElement(cv2.MORPH_RECT, (6,10))\n",
    "    image = cv2.dilate(image, kernel, iterations=3)\n",
    "\n",
    "    contours = cv2.findContours(image, cv2.RETR_EXTERNAL, cv2.CHAIN_APPROX_SIMPLE)\n",
    "    contours = contours[0] if len(contours) == 2 else contours[1]\n",
    "    \n",
    "    return contours\n",
    "\n",
    "\n",
    "def checkWikiTextContent(image):\n",
    "    wordCount = getWordCount(image)\n",
    "    sentenceCount = getLineCount(image)\n",
    "    backgroundColor = getBackgroundColor(image)\n",
    "    \n",
    "    if sentenceCount>=2 and wordCount/sentenceCount >= 10:\n",
    "        if backgroundColor == (255, 255, 255):\n",
    "            return True\n",
    "    return False"
   ]
  },
  {
   "cell_type": "code",
   "execution_count": 4,
   "id": "9e0a1c12",
   "metadata": {},
   "outputs": [],
   "source": [
    "def plotImage(image, contours = None, figsize=(10, 30)):\n",
    "    \n",
    "    if contours is not None:\n",
    "        for contour in contours:\n",
    "            x,y,w,h = cv2.boundingRect(contour)\n",
    "            cv2.rectangle(image, (x, y), (x + w, y + h), (36,255,12), 2)\n",
    "    \n",
    "    fig, ax = plt.subplots(figsize=figsize)\n",
    "    plt.imshow(image)\n",
    "    plt.show()\n",
    "    \n",
    "    return None"
   ]
  },
  {
   "cell_type": "code",
   "execution_count": null,
   "id": "0b63c3c2",
   "metadata": {},
   "outputs": [],
   "source": [
    "# azores"
   ]
  },
  {
   "cell_type": "code",
   "execution_count": 23,
   "id": "d79f7f41",
   "metadata": {},
   "outputs": [
    {
     "data": {
      "text/plain": [
       "(17925, 1284, 3)"
      ]
     },
     "execution_count": 23,
     "metadata": {},
     "output_type": "execute_result"
    }
   ],
   "source": [
    "inputImage.shape"
   ]
  },
  {
   "cell_type": "code",
   "execution_count": null,
   "id": "a20e75eb",
   "metadata": {},
   "outputs": [],
   "source": [
    "# attacca"
   ]
  },
  {
   "cell_type": "code",
   "execution_count": 25,
   "id": "e8bd3acb",
   "metadata": {},
   "outputs": [
    {
     "data": {
      "text/plain": [
       "(32767, 1284, 3)"
      ]
     },
     "execution_count": 25,
     "metadata": {},
     "output_type": "execute_result"
    }
   ],
   "source": [
    "inputImage.shape"
   ]
  },
  {
   "cell_type": "code",
   "execution_count": 24,
   "id": "c3162968",
   "metadata": {
    "scrolled": true
   },
   "outputs": [],
   "source": [
    "cwd = Path.cwd()\n",
    "inputDir = cwd.joinpath('inputData')\n",
    "inputDir = inputDir.joinpath('attacca')\n",
    "inputScreenshot = inputDir.joinpath('screenshot.png')\n",
    "inputText = inputDir.joinpath('text.txt')\n",
    "\n",
    "# with inputText.open('r') as f:\n",
    "#     trueText = f.read()\n",
    "\n",
    "inputImage = cv2.imread(str(inputScreenshot))\n",
    "# image = cv2.cvtColor(inputImage, cv2.COLOR_BGR2RGB)\n",
    "\n",
    "# contours = contourWikipage(image)\n",
    "# content = []\n",
    "\n",
    "# for contour in contours:\n",
    "#     x,y,w,h = cv2.boundingRect(contour)\n",
    "#     croppedImage = inputImage[y:y+h, x:x+w]\n",
    "#     print(croppedImage.shape)\n",
    "#     isTextContent = checkWikiTextContent(croppedImage)\n",
    "    \n",
    "#     if isTextContent:\n",
    "#         content.append(croppedImage)\n",
    "\n",
    "\n",
    "# plotImage(inputImage, contours = contours)\n",
    "# for image in content:\n",
    "#     plotImage(image)"
   ]
  },
  {
   "cell_type": "code",
   "execution_count": 71,
   "id": "53c318cf",
   "metadata": {},
   "outputs": [],
   "source": [
    "def criteriaToFill(image):\n",
    "    string = pytesseract.image_to_string(image)\n",
    "    string = ''.join(string.split())\n",
    "    if len(string)>=13 and string[:13] == 'FromWikipedia':\n",
    "        return True\n",
    "    elif len(string)>=6 and string == '[edit]':\n",
    "        return True\n",
    "    return False\n",
    "\n",
    "def fillText(image, criteriaToFill):\n",
    "\n",
    "    contoursToFill = []\n",
    "    img = cv2.cvtColor(image, cv2.COLOR_RGB2GRAY)\n",
    "    img = cv2.threshold(img, 0, 255, cv2.THRESH_BINARY_INV + cv2.THRESH_OTSU)[1]\n",
    "\n",
    "    kernel = cv2.getStructuringElement(cv2.MORPH_RECT, (4,3))\n",
    "    img = cv2.dilate(img, kernel, iterations=3)\n",
    "\n",
    "    contours = cv2.findContours(img, cv2.RETR_EXTERNAL, cv2.CHAIN_APPROX_SIMPLE)\n",
    "    contours = contours[0] if len(contours) == 2 else contours[1]\n",
    "    \n",
    "    \n",
    "    for contour in contours:\n",
    "        x,y,w,h = cv2.boundingRect(contour)\n",
    "        croppedImage = image[y:y+h, x:x+w]\n",
    "        toFill = criteriaToFill(croppedImage)\n",
    "        if toFill:\n",
    "            contoursToFill.append(contour)\n",
    "        \n",
    "    \n",
    "    if contoursToFill != []:\n",
    "        cv2.fillPoly(image, pts = contoursToFill, color=(255,255,255))    \n",
    "    return image "
   ]
  },
  {
   "cell_type": "code",
   "execution_count": null,
   "id": "e86e0dfc",
   "metadata": {},
   "outputs": [],
   "source": [
    "content.reverse()"
   ]
  },
  {
   "cell_type": "code",
   "execution_count": 97,
   "id": "e471e5db",
   "metadata": {},
   "outputs": [
    {
     "name": "stdout",
     "output_type": "stream",
     "text": [
      "----------------------------------------\n",
      "0\n",
      "Grunerite\n",
      "\n",
      "Grunerite is a mineral of the amphibole group of minerals with formula Fe7SigOz9(OH)2. It is the iron endmember of the\n",
      "grunerite-cummingtonite series. It forms as fibrous, columnar or massive aggregates of crystals. The crystals are\n",
      "monoclinic prismatic. The luster is glassy to pearly with colors ranging from green, brown to dark grey. The Mohs hardness\n",
      "is 5 to 6 and the specific gravity is 3.4 to 3.5.\n",
      "\n",
      "Itwas discovered in 1853 and named after Emmanuel-Louis Gruner (1809-1889), the Swiss-French chemist who first\n",
      "analysed it\n",
      "----------------------------------------\n",
      "----------------------------------------\n",
      "1\n",
      "Amosite (fibrous grunerite)\n",
      "\n",
      "‘Amosite is a rare asbestiform variety of grunerite that was mined as asbestos predominantly in the eastern part of the\n",
      "Transvaal Province of South Africa. The origin of the name is Amosa, the acronym for the mining company \"Asbestos Mines\n",
      "of South Africa’\n",
      "----------------------------------------\n"
     ]
    }
   ],
   "source": [
    "imageText = ''\n",
    "for idx, image in enumerate(content):\n",
    "    image = fillText(image, toFill)\n",
    "    \n",
    "    string = pytesseract.image_to_string(image)\n",
    "    string = string.strip()\n",
    "    imageText = imageText +'\\n'+ string \n",
    "# print(imageText)"
   ]
  },
  {
   "cell_type": "code",
   "execution_count": 94,
   "id": "f77aa4e8",
   "metadata": {},
   "outputs": [
    {
     "name": "stdout",
     "output_type": "stream",
     "text": [
      "\n",
      "Grunerite\n",
      "\n",
      "Grunerite is a mineral of the amphibole group of minerals with formula Fe7SigOz9(OH)2. It is the iron endmember of the\n",
      "grunerite-cummingtonite series. It forms as fibrous, columnar or massive aggregates of crystals. The crystals are\n",
      "monoclinic prismatic. The luster is glassy to pearly with colors ranging from green, brown to dark grey. The Mohs hardness\n",
      "is 5 to 6 and the specific gravity is 3.4 to 3.5.\n",
      "\n",
      "Itwas discovered in 1853 and named after Emmanuel-Louis Gruner (1809-1889), the Swiss-French chemist who first\n",
      "analysed it\n",
      "Amosite (fibrous grunerite)\n",
      "\n",
      "‘Amosite is a rare asbestiform variety of grunerite that was mined as asbestos predominantly in the eastern part of the\n",
      "Transvaal Province of South Africa. The origin of the name is Amosa, the acronym for the mining company \"Asbestos Mines\n",
      "of South Africa’\n"
     ]
    }
   ],
   "source": [
    "print(imageText)"
   ]
  },
  {
   "cell_type": "code",
   "execution_count": 95,
   "id": "8b12f9af",
   "metadata": {},
   "outputs": [
    {
     "name": "stdout",
     "output_type": "stream",
     "text": [
      "Grunerite\n",
      "Grunerite is a mineral of the amphibole group of minerals with  formula Fe7Si8O22(OH)2. It is the iron endmember of the grunerite-cummingtonite series. It forms as fibrous, columnar or massive aggregates of crystals. The crystals are monoclinic prismatic. The luster is glassy to pearly with colors ranging from green, brown to dark grey. The Mohs hardness is 5 to 6 and the specific gravity is 3.4 to 3.5.\n",
      "It was discovered in 1853 and named after Emmanuel-Louis Gruner (1809â€“1883), the Swiss-French chemist who first analysed it.\n",
      "\n",
      "Amosite (fibrous grunerite)\n",
      "Amosite is a rare asbestiform variety of grunerite that was mined as asbestos predominantly in the eastern part of the Transvaal Province of South Africa. The origin of the name is Amosa, the acronym for the mining company \"Asbestos Mines of South Africa\".\n",
      "\n"
     ]
    }
   ],
   "source": [
    "print(trueText)"
   ]
  },
  {
   "cell_type": "code",
   "execution_count": 98,
   "id": "cb4a366a",
   "metadata": {},
   "outputs": [
    {
     "name": "stdout",
     "output_type": "stream",
     "text": [
      "Collecting package metadata (current_repodata.json): ...working... done\n",
      "Solving environment: ...working... done\n",
      "\n",
      "## Package Plan ##\n",
      "\n",
      "  environment location: C:\\Users\\User\\anaconda3\n",
      "\n",
      "  added / updated specs:\n",
      "    - nltk\n",
      "\n",
      "\n",
      "The following packages will be downloaded:\n",
      "\n",
      "    package                    |            build\n",
      "    ---------------------------|-----------------\n",
      "    conda-22.11.0              |   py39haa95532_1         932 KB\n",
      "    ruamel.yaml-0.16.12        |   py39h2bbff1b_3         173 KB\n",
      "    ruamel.yaml.clib-0.2.6     |   py39h2bbff1b_1         101 KB\n",
      "    ------------------------------------------------------------\n",
      "                                           Total:         1.2 MB\n",
      "\n",
      "The following NEW packages will be INSTALLED:\n",
      "\n",
      "  ruamel.yaml        pkgs/main/win-64::ruamel.yaml-0.16.12-py39h2bbff1b_3 None\n",
      "  ruamel.yaml.clib   pkgs/main/win-64::ruamel.yaml.clib-0.2.6-py39h2bbff1b_1 None\n",
      "\n",
      "The following packages will be UPDATED:\n",
      "\n",
      "  conda              conda-forge::conda-22.9.0-py39hcbf530~ --> pkgs/main::conda-22.11.0-py39haa95532_1 None\n",
      "\n",
      "\n",
      "\n",
      "Downloading and Extracting Packages\n",
      "\n",
      "conda-22.11.0        | 932 KB    |            |   0% \n",
      "conda-22.11.0        | 932 KB    | ##5        |  26% \n",
      "conda-22.11.0        | 932 KB    | ########## | 100% \n",
      "conda-22.11.0        | 932 KB    | ########## | 100% \n",
      "\n",
      "ruamel.yaml.clib-0.2 | 101 KB    |            |   0% \n",
      "ruamel.yaml.clib-0.2 | 101 KB    | ########## | 100% \n",
      "\n",
      "ruamel.yaml-0.16.12  | 173 KB    |            |   0% \n",
      "ruamel.yaml-0.16.12  | 173 KB    | ########## | 100% \n",
      "Preparing transaction: ...working... done\n",
      "Verifying transaction: ...working... done\n",
      "Executing transaction: ...working... done\n",
      "Retrieving notices: ...working... done\n",
      "\n",
      "Note: you may need to restart the kernel to use updated packages.\n"
     ]
    }
   ],
   "source": [
    "conda install nltk"
   ]
  },
  {
   "cell_type": "code",
   "execution_count": null,
   "id": "426e810c",
   "metadata": {},
   "outputs": [],
   "source": []
  }
 ],
 "metadata": {
  "kernelspec": {
   "display_name": "Python 3 (ipykernel)",
   "language": "python",
   "name": "python3"
  },
  "language_info": {
   "codemirror_mode": {
    "name": "ipython",
    "version": 3
   },
   "file_extension": ".py",
   "mimetype": "text/x-python",
   "name": "python",
   "nbconvert_exporter": "python",
   "pygments_lexer": "ipython3",
   "version": "3.9.12"
  }
 },
 "nbformat": 4,
 "nbformat_minor": 5
}
